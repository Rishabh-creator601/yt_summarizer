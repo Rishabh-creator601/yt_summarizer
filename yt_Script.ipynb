{
 "cells": [
  {
   "cell_type": "code",
   "execution_count": 12,
   "id": "667f3733",
   "metadata": {},
   "outputs": [],
   "source": [
    "from youtube_transcript_api import YouTubeTranscriptApi\n",
    "\n",
    "import subprocess,whisper ,tqdm , os ,math,warnings ,torch\n",
    "from faster_whisper import WhisperModel\n",
    "\n",
    "warnings.filterwarnings(\"ignore\")\n",
    "from yt_dlp import YoutubeDL\n",
    "\n",
    "from pathlib import Path "
   ]
  },
  {
   "cell_type": "code",
   "execution_count": 2,
   "id": "a4aa3580",
   "metadata": {},
   "outputs": [],
   "source": [
    "def download_audio_with_ytdlp(url, output_path=\"audio.%(ext)s\"):\n",
    "    def progress_hook(d):\n",
    "        if d['status'] == 'downloading':\n",
    "            downloaded = d.get('_percent_str', '').strip()\n",
    "            speed = d.get('_speed_str', '').strip()\n",
    "            eta = d.get('_eta_str', '').strip()\n",
    "            print(f\"Downloading: {downloaded} | Speed: {speed} | ETA: {eta}\", end='\\r')\n",
    "        elif d['status'] == 'finished':\n",
    "            print(f\"\\nDownload complete: {d['filename']}\")\n",
    "\n",
    "    ydl_opts = {\n",
    "        'format': 'bestaudio/best',\n",
    "        'outtmpl': output_path,  # e.g., \"audio.%(ext)s\"\n",
    "        'postprocessors': [{\n",
    "            'key': 'FFmpegExtractAudio',\n",
    "            'preferredcodec': 'mp3',\n",
    "            'preferredquality': '0',\n",
    "        }],\n",
    "        'progress_hooks': [progress_hook],\n",
    "        'quiet': True,\n",
    "        'noplaylist': True\n",
    "    }\n",
    "\n",
    "    print(\"Starting download...\")\n",
    "    with YoutubeDL(ydl_opts) as ydl:\n",
    "        info = ydl.extract_info(url, download=True)\n",
    "\n",
    "    # Get duration in seconds and convert to mm:ss\n",
    "    duration_sec = info.get('duration')\n",
    "    minutes = duration_sec // 60\n",
    "    seconds = duration_sec % 60\n",
    "    print(f\"\\n🔊 Audio duration: {int(minutes)}m {int(seconds)}s\")\n",
    "\n",
    "    return output_path.replace('%(ext)s', 'mp3')\n",
    "\n",
    "\n"
   ]
  },
  {
   "cell_type": "code",
   "execution_count": null,
   "id": "949e1f90",
   "metadata": {},
   "outputs": [],
   "source": [
    "def audio_to_text(path):\n",
    "    if torch.cuda.is_available():\n",
    "        model = WhisperModel(\"tiny.en\", device=\"cuda\", compute_type=\"float16\")\n",
    "        print(\"Using GPU for transcription\")\n",
    "    else:\n",
    "        model = WhisperModel(\"tiny.en\", device=\"cpu\", compute_type=\"int8\")\n",
    "        print(\"Using CPU for transcription\")\n",
    "    print(\"model loaded \")\n",
    "    segments,_= model.transcribe(language=\"en\",audio=path,chunk_length=120,temperature=0)\n",
    "    \n",
    "    final_text=\"\"\n",
    "    for i, seg in enumerate(tqdm.tqdm(segments, desc=\"Processing Segments\")):\n",
    "        final_text += seg.text + \"\\n\"\n",
    "        \n",
    "    with open(\"transcript.txt\", \"w\", encoding=\"utf-8\") as f:\n",
    "        f.write(final_text)"
   ]
  },
  {
   "cell_type": "code",
   "execution_count": 4,
   "id": "94e24897",
   "metadata": {},
   "outputs": [],
   "source": [
    "\n",
    "def get_audio_duration(filepath):\n",
    "    audio = whisper.load_audio(filepath)\n",
    "    return len(audio) / whisper.audio.SAMPLE_RATE  # SAMPLE_RATE = 16000\n"
   ]
  },
  {
   "cell_type": "code",
   "execution_count": 5,
   "id": "51ab3838",
   "metadata": {},
   "outputs": [],
   "source": [
    "# problem :  just taking  longer time ,show demo of 5 minute videos "
   ]
  },
  {
   "cell_type": "code",
   "execution_count": 6,
   "id": "3cb3bcd1",
   "metadata": {},
   "outputs": [
    {
     "name": "stdout",
     "output_type": "stream",
     "text": [
      "Starting download...\n",
      "[download] 100% of    7.66MiB in 00:00:00 at 9.22MiB/s   Downloading: 0.0% | Speed: Unknown B/s | ETA: 00:12Downloading: 0.0% | Speed: 838.13KiB/s | ETA: 00:09Downloading: 0.1% | Speed: 1.51MiB/s | ETA: 00:05Downloading: 0.2% | Speed: 1.95MiB/s | ETA: 00:03Downloading: 0.4% | Speed: 3.55MiB/s | ETA: 00:02Downloading: 0.8% | Speed: 6.46MiB/s | ETA: 00:01Downloading: 1.6% | Speed: 9.90MiB/s | ETA: 00:00Downloading: 3.3% | Speed: 10.69MiB/s | ETA: 00:00Downloading: 6.5% | Speed: 10.78MiB/s | ETA: 00:00Downloading: 13.0% | Speed: 11.06MiB/s | ETA: 00:00Downloading: 26.1% | Speed: 10.91MiB/s | ETA: 00:00Downloading: 52.2% | Speed: 10.38MiB/s | ETA: 00:00Downloading: 100.0% | Speed: 10.09MiB/s | ETA: 00:00\n",
      "Download complete: audio.webm\n",
      "                                                      \n",
      "🔊 Audio duration: 9m 41s\n"
     ]
    },
    {
     "data": {
      "text/plain": [
       "'audio.mp3'"
      ]
     },
     "execution_count": 6,
     "metadata": {},
     "output_type": "execute_result"
    }
   ],
   "source": [
    "download_audio_with_ytdlp(\"https://www.youtube.com/watch?v=sEqOSvNN4NQ\")"
   ]
  },
  {
   "cell_type": "code",
   "execution_count": 14,
   "id": "57439bd1",
   "metadata": {},
   "outputs": [
    {
     "data": {
      "text/plain": [
       "580.7573125"
      ]
     },
     "execution_count": 14,
     "metadata": {},
     "output_type": "execute_result"
    }
   ],
   "source": [
    "get_audio_duration(\"audio.mp3\")"
   ]
  },
  {
   "cell_type": "code",
   "execution_count": 15,
   "id": "18568af4",
   "metadata": {},
   "outputs": [
    {
     "name": "stdout",
     "output_type": "stream",
     "text": [
      "model loaded \n"
     ]
    },
    {
     "name": "stderr",
     "output_type": "stream",
     "text": [
      "Processing Segments: 127it [00:44,  2.85it/s]\n"
     ]
    }
   ],
   "source": [
    "audio_to_text(\"audio.mp3\")"
   ]
  },
  {
   "cell_type": "code",
   "execution_count": null,
   "id": "0cc4681c",
   "metadata": {},
   "outputs": [],
   "source": [
    "## segments :  taking longer time , show demo of 5 minute videos\n",
    "## cuda is available in streamlit (try it ): https://discuss.streamlit.io/t/sentence-transformers-using-cpu-on-local-machine-while-using-streamlit-despite-having-gpu-enabled/39185/4"
   ]
  },
  {
   "cell_type": "code",
   "execution_count": null,
   "id": "4f1d5668",
   "metadata": {},
   "outputs": [],
   "source": []
  }
 ],
 "metadata": {
  "kernelspec": {
   "display_name": "ts_",
   "language": "python",
   "name": "python3"
  },
  "language_info": {
   "codemirror_mode": {
    "name": "ipython",
    "version": 3
   },
   "file_extension": ".py",
   "mimetype": "text/x-python",
   "name": "python",
   "nbconvert_exporter": "python",
   "pygments_lexer": "ipython3",
   "version": "3.11.9"
  }
 },
 "nbformat": 4,
 "nbformat_minor": 5
}
