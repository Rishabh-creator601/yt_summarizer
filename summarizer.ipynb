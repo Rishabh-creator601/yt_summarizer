{
 "cells": [
  {
   "cell_type": "code",
   "execution_count": 29,
   "id": "84fb3728",
   "metadata": {},
   "outputs": [],
   "source": [
    "from transformers import BartTokenizer, BartForConditionalGeneration"
   ]
  },
  {
   "cell_type": "code",
   "execution_count": null,
   "id": "79a8034c",
   "metadata": {},
   "outputs": [
    {
     "data": {
      "text/plain": [
       "\"data engineering is the backbone of modern data engineering, trusted by the world's leading organizations to deliver scalable, secure and high-performance data solutions. you will get 30 hours of live instructor-led training, work on five plus-field-world industry use cases and gain hands-on experience through 20 plus demos and catch-on projects. you will get 30 hours of live instructor-led training, work on five plus-field-world industry use cases and gain hands-on experience through 20 plus demos and catch-on projects. 'data engineering' and. a.... and this. a. dr e sy and. the.\""
      ]
     },
     "execution_count": 25,
     "metadata": {},
     "output_type": "execute_result"
    }
   ],
   "source": [
    "with open(\"transcript.txt\", \"r\") as file:\n",
    "    text = file.read()"
   ]
  },
  {
   "cell_type": "code",
   "execution_count": null,
   "id": "911b80ef",
   "metadata": {},
   "outputs": [],
   "source": [
    "\n",
    "\n",
    "# Load model & tokenizer only once\n",
    "tokenizer = BartTokenizer.from_pretrained(\"sshleifer/distilbart-cnn-12-6\")\n",
    "model = BartForConditionalGeneration.from_pretrained(\"sshleifer/distilbart-cnn-12-6\")\n",
    "\n",
    "def summarize_text(input_text, max_len=500, min_len=150):\n",
    "    inputs = tokenizer.encode(\"summarize: \" + input_text,return_tensors=\"pt\",max_length=1024,truncation=True)\n",
    "    summary_ids = model.generate(inputs,max_length=max_len,min_length=min_len,length_penalty=2.0,num_beams=7,early_stopping=True)\n",
    "    summary = tokenizer.decode(summary_ids[0], skip_special_tokens=True)\n",
    "    return summary\n"
   ]
  },
  {
   "cell_type": "code",
   "execution_count": 31,
   "id": "2df2c400",
   "metadata": {},
   "outputs": [
    {
     "data": {
      "text/plain": [
       "\" Data Engineering is the backbone of modern tech, powering real-time analytics, AI models and personalized experience across industries . AWS serves as the foundation of modern data engineering, trusted by the world's leading organizations to deliver scalable, secure and high-performance data solutions . Adureka's AWS-certified Data Engineer Associate Training is aligned with the latest DEA-CO1 certification XA and covers critical skills such as setting up schedulers, optimizing data processing and managing robust data pipelines . The demand for skilled AWS Data Engineers has never been higher and this roadmap will help you break into the field confidently . So today, we are diving deep into what it takes to become an AWS Data Engineer from Skills and Tools to Certifications from skills and tools to certificates .\""
      ]
     },
     "execution_count": 31,
     "metadata": {},
     "output_type": "execute_result"
    }
   ],
   "source": [
    "summary = summarize_text(text, max_len=500, min_len=150)\n",
    "summary"
   ]
  }
 ],
 "metadata": {
  "kernelspec": {
   "display_name": "ts_",
   "language": "python",
   "name": "python3"
  },
  "language_info": {
   "codemirror_mode": {
    "name": "ipython",
    "version": 3
   },
   "file_extension": ".py",
   "mimetype": "text/x-python",
   "name": "python",
   "nbconvert_exporter": "python",
   "pygments_lexer": "ipython3",
   "version": "3.11.9"
  }
 },
 "nbformat": 4,
 "nbformat_minor": 5
}
